{
 "cells": [
  {
   "cell_type": "code",
   "execution_count": 1,
   "id": "1d051edf",
   "metadata": {},
   "outputs": [
    {
     "name": "stdout",
     "output_type": "stream",
     "text": [
      "Original array: array('i', [1, 3, 5, 3, 7, 1, 9, 3])\n",
      "Convert the said array to an ordinary list with the same items:\n",
      "[1, 3, 5, 3, 7, 1, 9, 3]\n"
     ]
    }
   ],
   "source": [
    "from array import *\n",
    "array_num = array('i', [1, 3, 5, 3, 7, 1, 9, 3])\n",
    "print(\"Original array: \"+str(array_num))\n",
    "num_list = array_num.tolist()\n",
    "print(\"Convert the said array to an ordinary list with the same items:\")\n",
    "print(num_list)"
   ]
  },
  {
   "cell_type": "code",
   "execution_count": 3,
   "id": "8b01450a",
   "metadata": {},
   "outputs": [
    {
     "name": "stdout",
     "output_type": "stream",
     "text": [
      "Original matrix:\n",
      "[[0 1 2]\n",
      " [3 4 5]]\n",
      "Condition number of the said matrix:\n",
      "4\n"
     ]
    }
   ],
   "source": [
    "import numpy as np\n",
    "m = np.arange(6).reshape(2,3)\n",
    "print(\"Original matrix:\")\n",
    "print(m)\n",
    "result =  np.trace(m)\n",
    "print(\"Condition number of the said matrix:\")\n",
    "print(result)"
   ]
  },
  {
   "cell_type": "code",
   "execution_count": 4,
   "id": "db872522",
   "metadata": {},
   "outputs": [
    {
     "name": "stdout",
     "output_type": "stream",
     "text": [
      "Original array: \n",
      "[[ 0 10 20]\n",
      " [20 30 40]]\n",
      "Values bigger than 10 = [20 20 30 40]\n",
      "Their indices are  (array([0, 1, 1, 1], dtype=int64), array([2, 0, 1, 2], dtype=int64))\n"
     ]
    }
   ],
   "source": [
    "import numpy as np\n",
    "x = np.array([[0, 10, 20], [20, 30, 40]])\n",
    "print(\"Original array: \")\n",
    "print(x)\n",
    "print(\"Values bigger than 10 =\", x[x>10])\n",
    "print(\"Their indices are \", np.nonzero(x > 10))\n"
   ]
  },
  {
   "cell_type": "code",
   "execution_count": 13,
   "id": "cd40ea18",
   "metadata": {},
   "outputs": [
    {
     "name": "stdout",
     "output_type": "stream",
     "text": [
      "Original array:\n",
      "Array-1\n",
      "[[1. 1. 1.]\n",
      " [1. 1. 1.]\n",
      " [1. 1. 1.]]\n",
      "Array-2\n",
      "[0 1 2]\n",
      "A + B:\n",
      "[[1. 2. 3.]\n",
      " [1. 2. 3.]\n",
      " [1. 2. 3.]]\n"
     ]
    }
   ],
   "source": [
    "import numpy as np\n",
    "A = np.ones((3,3))\n",
    "B = np.arange(3)\n",
    "print(\"Original array:\")\n",
    "print(\"Array-1\")\n",
    "print(A)\n",
    "print(\"Array-2\")\n",
    "print(B)\n",
    "print(\"A + B:\")\n",
    "new_array = A + B\n",
    "print(new_array)"
   ]
  },
  {
   "cell_type": "code",
   "execution_count": 14,
   "id": "4a2c1bad",
   "metadata": {},
   "outputs": [
    {
     "name": "stdout",
     "output_type": "stream",
     "text": [
      "Original matrix:\n",
      "\n",
      "[[0.58855233 0.38246485 0.9651146  0.17922029 0.12663971 0.94532177\n",
      "  0.57575311 0.72711023 0.8106806  0.56201037]\n",
      " [0.18139806 0.45265541 0.78324905 0.21290274 0.89176437 0.53624428\n",
      "  0.3732765  0.37671183 0.27589248 0.2629564 ]\n",
      " [0.89642699 0.54352398 0.26507859 0.79496194 0.39170487 0.97246494\n",
      "  0.29999092 0.34601602 0.42313555 0.2974918 ]\n",
      " [0.39041254 0.40918362 0.52147914 0.77848968 0.62857254 0.4401351\n",
      "  0.62981199 0.36867222 0.09921221 0.11976905]\n",
      " [0.10426416 0.25698666 0.40530381 0.72116515 0.08507755 0.59380122\n",
      "  0.01866506 0.02115808 0.9031019  0.12336009]]\n",
      "\n",
      "Subtract the mean of each row of the said matrix:\n",
      "\n",
      "[[ 0.00226554 -0.20382193  0.37882782 -0.4070665  -0.45964708  0.35903499\n",
      "  -0.01053368  0.14082344  0.22439382 -0.02427641]\n",
      " [-0.25330705  0.0179503   0.34854394 -0.22180237  0.45705926  0.10153917\n",
      "  -0.06142861 -0.05799328 -0.15881263 -0.17174871]\n",
      " [ 0.37334744  0.02044442 -0.25800097  0.27188238 -0.13137469  0.44938538\n",
      "  -0.22308864 -0.17706354 -0.09994401 -0.22558776]\n",
      " [-0.04816127 -0.02939019  0.08290533  0.33991587  0.18999873  0.0015613\n",
      "   0.19123818 -0.06990159 -0.3393616  -0.31880476]\n",
      " [-0.2190242  -0.06630171  0.08201545  0.39787678 -0.23821082  0.27051285\n",
      "  -0.30462331 -0.30213029  0.57981354 -0.19992828]]\n"
     ]
    }
   ],
   "source": [
    "import numpy as np\n",
    "print(\"Original matrix:\\n\")\n",
    "X = np.random.rand(5, 10)\n",
    "print(X)\n",
    "print(\"\\nSubtract the mean of each row of the said matrix:\\n\")\n",
    "Y = X - X.mean(axis=1, keepdims=True)\n",
    "print(Y)"
   ]
  }
 ],
 "metadata": {
  "kernelspec": {
   "display_name": "Python 3 (ipykernel)",
   "language": "python",
   "name": "python3"
  },
  "language_info": {
   "codemirror_mode": {
    "name": "ipython",
    "version": 3
   },
   "file_extension": ".py",
   "mimetype": "text/x-python",
   "name": "python",
   "nbconvert_exporter": "python",
   "pygments_lexer": "ipython3",
   "version": "3.9.13"
  }
 },
 "nbformat": 4,
 "nbformat_minor": 5
}
