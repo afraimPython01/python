{
 "cells": [
  {
   "cell_type": "code",
   "execution_count": 1,
   "id": "53f2189c",
   "metadata": {},
   "outputs": [
    {
     "name": "stdout",
     "output_type": "stream",
     "text": [
      "20: 20\n",
      "35: 35\n",
      "19: 19\n",
      "Largest number among  the three is 35\n"
     ]
    }
   ],
   "source": [
    "n1=int(input(\"20: \"));\n",
    "#question 1\n",
    "n2=int(input(\"35: \"));\n",
    "\n",
    "n3=int(input(\"19: \"));\n",
    "\n",
    "def f():\n",
    "\n",
    "    if(n1>=n2) and (n1>=n3):\n",
    "\n",
    "        l=n1\n",
    "\n",
    "    elif(n2>=n1) and (n2>=n3):\n",
    "\n",
    "         l=n2\n",
    "\n",
    "    else:\n",
    "\n",
    "         l=n3\n",
    "\n",
    "    print(\"Largest number among  the three is\",l)\n",
    "\n",
    "f()"
   ]
  },
  {
   "cell_type": "code",
   "execution_count": 2,
   "id": "250e3ad0",
   "metadata": {},
   "outputs": [
    {
     "name": "stdout",
     "output_type": "stream",
     "text": [
      "50 30\n"
     ]
    }
   ],
   "source": [
    "def calculation(a, b):\n",
    "#question 2 \n",
    "    return a + b, a - b\n",
    "\n",
    "add, sub = calculation(40, 10)\n",
    "\n",
    "print(add, sub)"
   ]
  },
  {
   "cell_type": "code",
   "execution_count": 4,
   "id": "7891a1b4",
   "metadata": {},
   "outputs": [
    {
     "name": "stdout",
     "output_type": "stream",
     "text": [
      "-336\n"
     ]
    }
   ],
   "source": [
    "#guestion 3 \n",
    "def multiply(numbers):  \n",
    "    total = 1\n",
    "    for x in numbers:\n",
    "        total *= x  \n",
    "    return total  \n",
    "print(multiply((8, 2, 3, -1, 7)))\n"
   ]
  },
  {
   "cell_type": "code",
   "execution_count": 5,
   "id": "29d166ae",
   "metadata": {},
   "outputs": [
    {
     "name": "stdout",
     "output_type": "stream",
     "text": [
      "Original string:\n",
      "python\n",
      "After capitalizing first letter:\n",
      "Python\n"
     ]
    }
   ],
   "source": [
    "#question 4 \n",
    "s = \"python\"\n",
    "print(\"Original string:\")\n",
    "print(s)\n",
    "print(\"After capitalizing first letter:\")\n",
    "print(str.title(s))"
   ]
  },
  {
   "cell_type": "code",
   "execution_count": 16,
   "id": "cc9bd407",
   "metadata": {},
   "outputs": [
    {
     "name": "stdout",
     "output_type": "stream",
     "text": [
      "apple\n"
     ]
    }
   ],
   "source": [
    "d = {\"frui\":\"apple\",\"color\":\"red\",\"taste\":\"good\"}\n",
    "#question 5\n",
    "\n",
    "lisst = []\n",
    "for i in d.values():\n",
    "    lisst.append(i)\n",
    "print(max(lisst,key=len))"
   ]
  },
  {
   "cell_type": "code",
   "execution_count": 19,
   "id": "88b8935b",
   "metadata": {},
   "outputs": [
    {
     "name": "stdout",
     "output_type": "stream",
     "text": [
      "black-green-red-white-yellow\n"
     ]
    }
   ],
   "source": [
    "y = \"green-red-yellow-black-white\"\n",
    "#question\n",
    "z = y.split(\"-\")\n",
    "z.sort()\n",
    "print(\"-\".join(z))"
   ]
  },
  {
   "cell_type": "code",
   "execution_count": 1,
   "id": "9f1ff5b2",
   "metadata": {},
   "outputs": [
    {
     "name": "stdout",
     "output_type": "stream",
     "text": [
      "enter your number is a comma-seprate sequnse100,150,180\n",
      "[18, 22, 24]\n"
     ]
    }
   ],
   "source": [
    " def sqrr(entry):\n",
    "        value = []\n",
    "        for i in entry:\n",
    "            k = (2 * 50 * int(i) / 30) ** 0.5\n",
    "            value.append(int(k))\n",
    "        return(value)\n",
    "    \n",
    "x = input(\"enter your number is a comma-seprate sequnse\")\n",
    "x = x.split(\",\")\n",
    "print(sqrr(x))"
   ]
  },
  {
   "cell_type": "code",
   "execution_count": null,
   "id": "b38df641",
   "metadata": {},
   "outputs": [],
   "source": []
  }
 ],
 "metadata": {
  "kernelspec": {
   "display_name": "Python 3 (ipykernel)",
   "language": "python",
   "name": "python3"
  },
  "language_info": {
   "codemirror_mode": {
    "name": "ipython",
    "version": 3
   },
   "file_extension": ".py",
   "mimetype": "text/x-python",
   "name": "python",
   "nbconvert_exporter": "python",
   "pygments_lexer": "ipython3",
   "version": "3.9.13"
  }
 },
 "nbformat": 4,
 "nbformat_minor": 5
}
