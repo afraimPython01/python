{
 "cells": [
  {
   "cell_type": "code",
   "execution_count": 1,
   "id": "80fb5e9a",
   "metadata": {},
   "outputs": [
    {
     "name": "stdout",
     "output_type": "stream",
     "text": [
      "kk\n",
      "jj\n",
      "jj kk\n"
     ]
    }
   ],
   "source": [
    "x=str(input())\n",
    "y=str(input())\n",
    "print(y,x)"
   ]
  },
  {
   "cell_type": "code",
   "execution_count": 6,
   "id": "683960a9",
   "metadata": {},
   "outputs": [
    {
     "name": "stdout",
     "output_type": "stream",
     "text": [
      " input an integer:5\n",
      "615\n"
     ]
    }
   ],
   "source": [
    "a = input(\" input an integer:\")\n",
    "n = a+a\n",
    "n2 = n + a\n",
    "print(int(a)+int(n)+int(n2))\n",
    "\n",
    "\n",
    "    \n",
    "   \n",
    "  "
   ]
  },
  {
   "cell_type": "code",
   "execution_count": 11,
   "id": "1a1fcdc5",
   "metadata": {},
   "outputs": [
    {
     "name": "stdout",
     "output_type": "stream",
     "text": [
      "4\n",
      "even\n"
     ]
    }
   ],
   "source": [
    "num = int(input())\n",
    "\n",
    "if num % 2 == 0:\n",
    "    print(\"even\")\n",
    "else:\n",
    "    print(\"odd\")"
   ]
  },
  {
   "cell_type": "code",
   "execution_count": 4,
   "id": "66282f27",
   "metadata": {
    "scrolled": true
   },
   "outputs": [
    {
     "name": "stdout",
     "output_type": "stream",
     "text": [
      "2002,2009,2016,2023,2037,2044,2051,2058,2072,2079,2086,2093,2107,2114,2121,2128,2142,2149,2156,2163,2177,2184,2191,2198,2212,2219,2226,2233,2247,2254,2261,2268,2282,2289,2296,2303,2317,2324,2331,2338,2352,2359,2366,2373,2387,2394,2401,2408,2422,2429,2436,2443,2457,2464,2471,2478,2492,2499,2506,2513,2527,2534,2541,2548,2562,2569,2576,2583,2597,2604,2611,2618,2632,2639,2646,2653,2667,2674,2681,2688,2702,2709,2716,2723,2737,2744,2751,2758,2772,2779,2786,2793,2807,2814,2821,2828,2842,2849,2856,2863,2877,2884,2891,2898,2912,2919,2926,2933,2947,2954,2961,2968,2982,2989,2996,3003,3017,3024,3031,3038,3052,3059,3066,3073,3087,3094,3101,3108,3122,3129,3136,3143,3157,3164,3171,3178,3192,3199,"
     ]
    }
   ],
   "source": [
    "#2000,3200\n",
    "\n",
    "for x in range (2000,3201):\n",
    "    if x % 7==0 and x % 5 != 0:\n",
    "        print(x,end=\",\")\n",
    "        \n"
   ]
  },
  {
   "cell_type": "code",
   "execution_count": 14,
   "id": "db967bfe",
   "metadata": {},
   "outputs": [
    {
     "name": "stdout",
     "output_type": "stream",
     "text": [
      "5\n",
      "120\n"
     ]
    }
   ],
   "source": [
    "x = int(input())\n",
    "h = 1\n",
    "for y in range(1,x+1): #0,1,2,3,4\n",
    "    h *= y\n",
    "print(h)"
   ]
  },
  {
   "cell_type": "code",
   "execution_count": 18,
   "id": "a1718df4",
   "metadata": {},
   "outputs": [
    {
     "name": "stdout",
     "output_type": "stream",
     "text": [
      "hlota "
     ]
    }
   ],
   "source": [
    "y = \"hello team \"\n",
    "for x in range(len(y)):\n",
    "    if x % 2 == 0:\n",
    "        print(y[x],end=\"\")"
   ]
  },
  {
   "cell_type": "code",
   "execution_count": 22,
   "id": "5fa55474",
   "metadata": {},
   "outputs": [
    {
     "name": "stdout",
     "output_type": "stream",
     "text": [
      "200\n",
      "60.0\n"
     ]
    }
   ],
   "source": [
    "price = int(input())\n",
    "\n",
    "if price > 500:\n",
    "    print(price / 2)\n",
    "elif price in range(200,500):\n",
    "      print(price * 0.3)\n",
    "else:\n",
    "    print(price*0.1)"
   ]
  }
 ],
 "metadata": {
  "kernelspec": {
   "display_name": "Python 3 (ipykernel)",
   "language": "python",
   "name": "python3"
  },
  "language_info": {
   "codemirror_mode": {
    "name": "ipython",
    "version": 3
   },
   "file_extension": ".py",
   "mimetype": "text/x-python",
   "name": "python",
   "nbconvert_exporter": "python",
   "pygments_lexer": "ipython3",
   "version": "3.9.13"
  }
 },
 "nbformat": 4,
 "nbformat_minor": 5
}
