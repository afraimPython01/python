{
 "cells": [
  {
   "cell_type": "code",
   "execution_count": 14,
   "id": "0321c3b0",
   "metadata": {},
   "outputs": [
    {
     "name": "stdout",
     "output_type": "stream",
     "text": [
      "120\n"
     ]
    }
   ],
   "source": [
    "list=[5,8,3]\n",
    "\n",
    "c = 1\n",
    "for x in list:\n",
    "    c*=x\n",
    "print(c)"
   ]
  },
  {
   "cell_type": "code",
   "execution_count": 23,
   "id": "57e09359",
   "metadata": {},
   "outputs": [
    {
     "name": "stdout",
     "output_type": "stream",
     "text": [
      "[(1, 2), (4, 4), (2, 1), (2, 5)]\n",
      "[(1, 2), (2, 1), (4, 4), (2, 5)]\n",
      "[(2, 1), (1, 2), (4, 4), (2, 5)]\n",
      "[(2, 1), (1, 2), (4, 4), (2, 5)]\n"
     ]
    }
   ],
   "source": [
    "fg =  [(2, 5), (1, 2), (4, 4), (2,1)] \n",
    "for k in range(len(fg)):\n",
    "    for y in range(len(fg)-1):\n",
    "         if fg[y][1] > fg[y+1][1]:\n",
    "                fg[y],fg[y+1] = fg[y+1],fg[y]\n",
    "    print(fg)"
   ]
  },
  {
   "cell_type": "code",
   "execution_count": 2,
   "id": "4f2fc949",
   "metadata": {},
   "outputs": [
    {
     "name": "stdout",
     "output_type": "stream",
     "text": [
      "{'a': 300, 'b': 200, 'c': 300, 'd': 400}\n"
     ]
    }
   ],
   "source": [
    "d1 = {'a': 100, 'b': 200, 'c':300}\n",
    "\n",
    "d2 = {'a': 300, 'b': 200, 'd':400} \n",
    "\n",
    "d3 = dict(d1)\n",
    "\n",
    "d3.update(d2)\n",
    "\n",
    "for a,f  in d1.items():\n",
    "    for u,i in d2.items():\n",
    "        if a == f:\n",
    "            d3[a] = (f+i)\n",
    "print(d3)"
   ]
  },
  {
   "cell_type": "code",
   "execution_count": 8,
   "id": "9741e560",
   "metadata": {},
   "outputs": [
    {
     "name": "stdout",
     "output_type": "stream",
     "text": [
      "8\n",
      "{1: 1}\n",
      "{1: 1, 2: 4}\n",
      "{1: 1, 2: 4, 3: 9}\n",
      "{1: 1, 2: 4, 3: 9, 4: 16}\n",
      "{1: 1, 2: 4, 3: 9, 4: 16, 5: 25}\n",
      "{1: 1, 2: 4, 3: 9, 4: 16, 5: 25, 6: 36}\n",
      "{1: 1, 2: 4, 3: 9, 4: 16, 5: 25, 6: 36, 7: 49}\n",
      "{1: 1, 2: 4, 3: 9, 4: 16, 5: 25, 6: 36, 7: 49, 8: 64}\n"
     ]
    }
   ],
   "source": [
    "g = int(input())\n",
    "d = {}\n",
    "for i in range(1,g+1):\n",
    "    d[i]= i*i\n",
    "    print(d)"
   ]
  },
  {
   "cell_type": "code",
   "execution_count": 4,
   "id": "305a1734",
   "metadata": {},
   "outputs": [],
   "source": [
    "s = [(\"item1\",\"12.20\"),(\"item2\",\"15.10\"),(\"item3\",\"24.5\")]\n",
    "for a in range(len(s)):\n",
    "    for f in range(len(s)-1):\n",
    "        if float(s[f][1]) > float(s[f+1][1]):\n",
    "            s[f],s[f+1] = s[f+1],s[f]\n",
    "            print(s)"
   ]
  },
  {
   "cell_type": "code",
   "execution_count": 12,
   "id": "ca7ed685",
   "metadata": {},
   "outputs": [
    {
     "name": "stdout",
     "output_type": "stream",
     "text": [
      "1\n",
      "2\n",
      "3\n",
      "4\n",
      "5\n",
      "{2, 3, 4, 5}\n"
     ]
    }
   ],
   "source": [
    "h = {1,2,3,4,5}\n",
    "for i in h:\n",
    "    print(i)\n",
    "h.add(5)\n",
    "h.remove(1)\n",
    "print(h)"
   ]
  }
 ],
 "metadata": {
  "kernelspec": {
   "display_name": "Python 3 (ipykernel)",
   "language": "python",
   "name": "python3"
  },
  "language_info": {
   "codemirror_mode": {
    "name": "ipython",
    "version": 3
   },
   "file_extension": ".py",
   "mimetype": "text/x-python",
   "name": "python",
   "nbconvert_exporter": "python",
   "pygments_lexer": "ipython3",
   "version": "3.9.13"
  }
 },
 "nbformat": 4,
 "nbformat_minor": 5
}
